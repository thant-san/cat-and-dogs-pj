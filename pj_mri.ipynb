{
  "cells": [
    {
      "cell_type": "markdown",
      "metadata": {
        "id": "view-in-github",
        "colab_type": "text"
      },
      "source": [
        "<a href=\"https://colab.research.google.com/github/thant-san/cat-and-dogs-pj/blob/main/pj_mri.ipynb\" target=\"_parent\"><img src=\"https://colab.research.google.com/assets/colab-badge.svg\" alt=\"Open In Colab\"/></a>"
      ]
    },
    {
      "cell_type": "code",
      "execution_count": 45,
      "metadata": {
        "colab": {
          "base_uri": "https://localhost:8080/",
          "height": 235
        },
        "id": "EwRz6B8AB0Gw",
        "outputId": "bf8edde9-ef47-45e2-c4b9-87b663e27f94"
      },
      "outputs": [
        {
          "output_type": "error",
          "ename": "SystemError",
          "evalue": "ignored",
          "traceback": [
            "\u001b[0;31m---------------------------------------------------------------------------\u001b[0m",
            "\u001b[0;31mSystemError\u001b[0m                               Traceback (most recent call last)",
            "\u001b[0;32m<ipython-input-45-a17aec6e8e71>\u001b[0m in \u001b[0;36m<module>\u001b[0;34m()\u001b[0m\n\u001b[1;32m      3\u001b[0m \u001b[0mdevice_name\u001b[0m \u001b[0;34m=\u001b[0m \u001b[0mtf\u001b[0m\u001b[0;34m.\u001b[0m\u001b[0mtest\u001b[0m\u001b[0;34m.\u001b[0m\u001b[0mgpu_device_name\u001b[0m\u001b[0;34m(\u001b[0m\u001b[0;34m)\u001b[0m\u001b[0;34m\u001b[0m\u001b[0;34m\u001b[0m\u001b[0m\n\u001b[1;32m      4\u001b[0m \u001b[0;32mif\u001b[0m \u001b[0mdevice_name\u001b[0m \u001b[0;34m!=\u001b[0m \u001b[0;34m'/device:GPU:0'\u001b[0m\u001b[0;34m:\u001b[0m\u001b[0;34m\u001b[0m\u001b[0;34m\u001b[0m\u001b[0m\n\u001b[0;32m----> 5\u001b[0;31m   \u001b[0;32mraise\u001b[0m \u001b[0mSystemError\u001b[0m\u001b[0;34m(\u001b[0m\u001b[0;34m'GPU device not found'\u001b[0m\u001b[0;34m)\u001b[0m\u001b[0;34m\u001b[0m\u001b[0;34m\u001b[0m\u001b[0m\n\u001b[0m\u001b[1;32m      6\u001b[0m \u001b[0mprint\u001b[0m\u001b[0;34m(\u001b[0m\u001b[0;34m'Found GPU at: {}'\u001b[0m\u001b[0;34m.\u001b[0m\u001b[0mformat\u001b[0m\u001b[0;34m(\u001b[0m\u001b[0mdevice_name\u001b[0m\u001b[0;34m)\u001b[0m\u001b[0;34m)\u001b[0m\u001b[0;34m\u001b[0m\u001b[0;34m\u001b[0m\u001b[0m\n\u001b[1;32m      7\u001b[0m \u001b[0mget_ipython\u001b[0m\u001b[0;34m(\u001b[0m\u001b[0;34m)\u001b[0m\u001b[0;34m.\u001b[0m\u001b[0mmagic\u001b[0m\u001b[0;34m(\u001b[0m\u001b[0;34m'time'\u001b[0m\u001b[0;34m)\u001b[0m\u001b[0;34m\u001b[0m\u001b[0;34m\u001b[0m\u001b[0m\n",
            "\u001b[0;31mSystemError\u001b[0m: GPU device not found"
          ]
        }
      ],
      "source": [
        "%tensorflow_version 2.x\n",
        "import tensorflow as tf\n",
        "device_name = tf.test.gpu_device_name()\n",
        "if device_name != '/device:GPU:0':\n",
        "  raise SystemError('GPU device not found')\n",
        "print('Found GPU at: {}'.format(device_name))\n",
        "%time"
      ]
    },
    {
      "cell_type": "code",
      "execution_count": 46,
      "metadata": {
        "id": "CNDtTdyFHKpL"
      },
      "outputs": [],
      "source": [
        "import os\n",
        "from tensorflow.keras import layers\n",
        "from tensorflow.keras import Model\n",
        "from tensorflow.keras.optimizers import RMSprop\n",
        "from tensorflow.keras.preprocessing.image import ImageDataGenerator\n",
        "from tensorflow.keras.layers import Dense,Flatten,Conv2D,MaxPooling2D,Dropout\n",
        "from tensorflow.keras.preprocessing import image\n",
        "import numpy as np"
      ]
    },
    {
      "cell_type": "code",
      "execution_count": 47,
      "metadata": {
        "id": "ZG3OA8fTHSRV",
        "colab": {
          "base_uri": "https://localhost:8080/"
        },
        "outputId": "00b04cf5-a7ec-4a27-d7b9-a2be0cbeed12"
      },
      "outputs": [
        {
          "output_type": "stream",
          "name": "stdout",
          "text": [
            "Drive already mounted at /content/gdrive/; to attempt to forcibly remount, call drive.mount(\"/content/gdrive/\", force_remount=True).\n"
          ]
        }
      ],
      "source": [
        "from google.colab import drive\n",
        "drive.mount(\"/content/gdrive/\")"
      ]
    },
    {
      "cell_type": "code",
      "execution_count": 48,
      "metadata": {
        "id": "9yRZTFamv4Gc"
      },
      "outputs": [],
      "source": [
        "test_dir='/content/gdrive/MyDrive/Brain_tumor/Testing'\n",
        "train_dir='/content/gdrive/MyDrive/Brain_tumor/Training'"
      ]
    },
    {
      "cell_type": "code",
      "execution_count": 49,
      "metadata": {
        "id": "xAFJz0M6r_x4"
      },
      "outputs": [],
      "source": [
        "import tensorflow as tf\n",
        "model= tf.keras.models.Sequential([\n",
        "        tf.keras.layers.Flatten(input_shape = (100, 100, 3)),\n",
        "        #tf.keras.layers.Dense(1000,activation=tf.nn.relu),#hidden\n",
        "        #tf.keras.layers.Dense(500,activation=tf.nn.relu),\n",
        "        tf.keras.layers.Dense(200,activation=tf.nn.relu),\n",
        "        tf.keras.layers.Dense(20,activation=tf.nn.relu),\n",
        "        tf.keras.layers.Dense(4,activation=tf.nn.softmax) # output layers\n",
        "])"
      ]
    },
    {
      "cell_type": "code",
      "execution_count": 50,
      "metadata": {
        "id": "67lI1oQIs7cn"
      },
      "outputs": [],
      "source": [
        "model.compile(optimizer='adam',\n",
        "              loss='categorical_crossentropy',\n",
        "              metrics=['acc'])"
      ]
    },
    {
      "cell_type": "code",
      "execution_count": 51,
      "metadata": {
        "id": "REreyJTFuUPW"
      },
      "outputs": [],
      "source": [
        "from tensorflow.keras.preprocessing.image import ImageDataGenerator\n",
        "train_datagen=ImageDataGenerator(rescale=1.0/255.)\n",
        "test_datagen=ImageDataGenerator(rescale=1.0/255.)"
      ]
    },
    {
      "cell_type": "code",
      "execution_count": 52,
      "metadata": {
        "colab": {
          "base_uri": "https://localhost:8080/"
        },
        "id": "1YTUrcUjveUI",
        "outputId": "e1171b78-c2ac-404b-9682-2275cb66910a"
      },
      "outputs": [
        {
          "output_type": "execute_result",
          "data": {
            "text/plain": [
              "['notumor', 'glioma', 'meningioma', 'pituitary']"
            ]
          },
          "metadata": {},
          "execution_count": 52
        }
      ],
      "source": [
        "import os\n",
        "os.listdir(train_dir)"
      ]
    },
    {
      "cell_type": "code",
      "execution_count": null,
      "metadata": {
        "id": "lsPEVf9JxlO9"
      },
      "outputs": [],
      "source": [
        "os.listdir(train_dir+'/glioma')"
      ]
    },
    {
      "cell_type": "code",
      "execution_count": 53,
      "metadata": {
        "id": "UjmXpuyRzVAP"
      },
      "outputs": [],
      "source": [
        "import cv2\n",
        "image=cv2.imread(train_dir+'/glioma/'+'Tr-gl_1273.jpg')\n",
        "image_rgb = cv2.cvtColor(image, cv2.COLOR_BGR2RGB)"
      ]
    },
    {
      "cell_type": "code",
      "execution_count": 54,
      "metadata": {
        "colab": {
          "base_uri": "https://localhost:8080/",
          "height": 286
        },
        "id": "8hyEjbTc1xBx",
        "outputId": "d312402e-4c12-428d-9f63-f4a97e703524"
      },
      "outputs": [
        {
          "output_type": "execute_result",
          "data": {
            "text/plain": [
              "<matplotlib.image.AxesImage at 0x7f56a1264a10>"
            ]
          },
          "metadata": {},
          "execution_count": 54
        },
        {
          "output_type": "display_data",
          "data": {
            "text/plain": [
              "<Figure size 432x288 with 1 Axes>"
            ],
            "image/png": "[encoded data removed]"
          },
          "metadata": {
            "needs_background": "light"
          }
        }
      ],
      "source": [
        "import matplotlib.pyplot as plt\n",
        "plt.imshow(image)   "
      ]
    },
    {
      "cell_type": "code",
      "execution_count": 55,
      "metadata": {
        "colab": {
          "base_uri": "https://localhost:8080/",
          "height": 286
        },
        "id": "7jUEMrt12Dsi",
        "outputId": "41dcc604-9fd5-45ba-e4d0-73afa11f60bf"
      },
      "outputs": [
        {
          "output_type": "execute_result",
          "data": {
            "text/plain": [
              "<matplotlib.image.AxesImage at 0x7f56a12a99d0>"
            ]
          },
          "metadata": {},
          "execution_count": 55
        },
        {
          "output_type": "display_data",
          "data": {
            "text/plain": [
              "<Figure size 432x288 with 1 Axes>"
            ],
            "image/png": "[encoded data removed]"
          },
          "metadata": {
            "needs_background": "light"
          }
        }
      ],
      "source": [
        "plt.imshow(image_rgb)"
      ]
    },
    {
      "cell_type": "code",
      "execution_count": null,
      "metadata": {
        "id": "O-g4UZH52nFM"
      },
      "outputs": [],
      "source": [
        "import numpy as np\n",
        "np.array(image_rgb.shape)"
      ]
    },
    {
      "cell_type": "code",
      "execution_count": 57,
      "metadata": {
        "colab": {
          "base_uri": "https://localhost:8080/"
        },
        "id": "v4YgrOY83puC",
        "outputId": "c18c84a4-347a-4a51-df02-a4ec6b41f429"
      },
      "outputs": [
        {
          "output_type": "stream",
          "name": "stdout",
          "text": [
            "Found 5712 images belonging to 4 classes.\n"
          ]
        }
      ],
      "source": [
        "batch_size=20\n",
        "training_set=train_datagen.flow_from_directory(train_dir,\n",
        "                                               target_size=(100,100),\n",
        "                                               batch_size=batch_size,\n",
        "                                               class_mode='categorical')\n"
      ]
    },
    {
      "cell_type": "code",
      "execution_count": null,
      "metadata": {
        "id": "miasoWm_69Sw"
      },
      "outputs": [],
      "source": [
        "testing_set=test_datagen.flow_from_directory(test_dir,\n",
        "                                             target_size=(100,100),\n",
        "                                             batch_size=batch_size,\n",
        "                                             class_mode='categorical')"
      ]
    },
    {
      "cell_type": "code",
      "execution_count": null,
      "metadata": {
        "colab": {
          "base_uri": "https://localhost:8080/"
        },
        "id": "1EnXw2ei7tBB",
        "outputId": "95bd2e44-e68d-4c08-f778-3d72db89a3e2"
      },
      "outputs": [
        {
          "output_type": "stream",
          "name": "stdout",
          "text": [
            "Epoch 1/20\n",
            "285/285 - 32s - loss: 1.4169 - acc: 0.2800 - 32s/epoch - 112ms/step\n",
            "Epoch 2/20\n",
            "285/285 - 31s - loss: 1.3841 - acc: 0.2789 - 31s/epoch - 108ms/step\n",
            "Epoch 3/20\n",
            "285/285 - 31s - loss: 1.3837 - acc: 0.2791 - 31s/epoch - 110ms/step\n",
            "Epoch 4/20\n",
            "285/285 - 30s - loss: 1.3835 - acc: 0.2793 - 30s/epoch - 107ms/step\n",
            "Epoch 5/20\n"
          ]
        }
      ],
      "source": [
        "history=model.fit(training_set,\n",
        "                  #validation_data = validation_set,\n",
        "                              steps_per_epoch=5712//batch_size,\n",
        "                        \n",
        "                         epochs=20,\n",
        "                         #validation_steps=validation_length//batch_size,\n",
        "                         #validation_steps=2870//batch_size,\n",
        "                         verbose = 2,\n",
        "                         shuffle = False)"
      ]
    },
    {
      "cell_type": "code",
      "execution_count": null,
      "metadata": {
        "id": "qskezW4MA4xy"
      },
      "outputs": [],
      "source": [
        "import matplotlib.pyplot as plt\n",
        "acc = history.history['acc']\n",
        "#val_acc  = history.history[ 'val_acc' ]\n",
        "loss     = history.history[    'loss' ]\n",
        "#val_loss = history.history['val_loss' ]\n",
        "\n",
        "epochs   = range(len(acc)) \n",
        "plt.plot  ( epochs,     acc ,label = 'Accuracy')\n",
        "#plt.plot  ( epochs, val_acc)\n",
        "#plt.title ('Training and validation accuracy')\n",
        "plt.title ('Training Accuracy')\n",
        "plt.figure()\n",
        "\n",
        "plt.plot  ( epochs,     loss )\n",
        "#plt.plot  ( epochs, val_loss )\n",
        "#plt.title ('Training and validation loss')\n",
        "plt.title ('Training Loss')\n",
        "\n",
        "plt.show()"
      ]
    },
    {
      "cell_type": "code",
      "execution_count": null,
      "metadata": {
        "id": "qIfNWPfoKOvG"
      },
      "outputs": [],
      "source": [
        "classes=model.predict(testing_set)"
      ]
    },
    {
      "cell_type": "markdown",
      "metadata": {
        "id": "4LVXvedAptHR"
      },
      "source": [
        ""
      ]
    },
    {
      "cell_type": "code",
      "execution_count": null,
      "metadata": {
        "id": "CiJVbB_tKpZi"
      },
      "outputs": [],
      "source": [
        "folder_names=['glioma', 'pituitary', 'meningioma', 'no']\n",
        "y_pred=[]\n",
        "for folder in folder_names:\n",
        "    path = test_dir+\"/\"+folder\n",
        "    path_fnames = os.listdir(path)\n",
        "    for i in path_fnames:\n",
        "        path2 = path+'/'+i\n",
        "        img = tf.keras.preprocessing.image.load_img(path2, target_size=(100,100))#target size ကို သတိထားပါ\n",
        "        x = tf.keras.preprocessing.image.img_to_array(img)\n",
        "        x = np.expand_dims(x,axis=0)\n",
        "        x /= 255.0\n",
        "        images = np.vstack([x])# [1 2 3 4 5 6]\n",
        "        classes = model.predict(x)\n",
        "        y_classes=classes.argmax(axis=-1)\n",
        "        y_pred.append(y_classes[0])\n",
        "    print()"
      ]
    },
    {
      "cell_type": "code",
      "execution_count": null,
      "metadata": {
        "id": "KftV9nTLLNH0"
      },
      "outputs": [],
      "source": [
        "y_true = testing_set.classes.tolist()\n",
        "print(len(y_true))"
      ]
    },
    {
      "cell_type": "code",
      "execution_count": null,
      "metadata": {
        "id": "5O34fZnNLdiL"
      },
      "outputs": [],
      "source": [
        "class_dictionary = testing_set.class_indices\n",
        "print('Labels dictionary',class_dictionary)"
      ]
    },
    {
      "cell_type": "code",
      "execution_count": null,
      "metadata": {
        "id": "dfDoc9aULhMv"
      },
      "outputs": [],
      "source": [
        "from sklearn.metrics import confusion_matrix\n",
        "confusion_matrix = confusion_matrix(y_true,y_pred)\n",
        "print('confusion_matrix')\n",
        "print(confusion_matrix)"
      ]
    },
    {
      "cell_type": "code",
      "execution_count": null,
      "metadata": {
        "id": "VeR73qSGLmHP"
      },
      "outputs": [],
      "source": [
        "y_true"
      ]
    },
    {
      "cell_type": "code",
      "execution_count": null,
      "metadata": {
        "id": "T_iqURBALpJz"
      },
      "outputs": [],
      "source": [
        "y_pred"
      ]
    },
    {
      "cell_type": "code",
      "execution_count": null,
      "metadata": {
        "id": "apgnI3a4LsYP"
      },
      "outputs": [],
      "source": [
        "from sklearn.metrics import accuracy_score, precision_score, f1_score, recall_score\n",
        "\n",
        "print('Accuracy Score',accuracy_score(y_true, y_pred)*100,'%')\n",
        "print('Precision Macro Score ',precision_score(y_true, y_pred,average = 'macro')*100,'%')\n",
        "print('Recall_Score',recall_score(y_true, y_pred, average = 'macro')*100,'%')\n",
        "print('F1_Score',f1_score(y_true, y_pred, average = 'macro')*100,'%')"
      ]
    },
    {
      "cell_type": "code",
      "execution_count": null,
      "metadata": {
        "id": "TBPbl5nxiovG"
      },
      "outputs": [],
      "source": [
        "model.save('/neural_networks.h5')"
      ]
    },
    {
      "cell_type": "code",
      "execution_count": null,
      "metadata": {
        "id": "b2sCgQR7L3sd"
      },
      "outputs": [],
      "source": [
        "!pip install streamlit"
      ]
    },
    {
      "cell_type": "code",
      "execution_count": null,
      "metadata": {
        "id": "x6-znVjKM839"
      },
      "outputs": [],
      "source": [
        ""
      ]
    },
    {
      "cell_type": "code",
      "execution_count": null,
      "metadata": {
        "id": "Z_0U2ICrL72O"
      },
      "outputs": [],
      "source": [
        "%%writefile app.py\n",
        "import streamlit as st\n",
        "from PIL import Image,ImageOps\n",
        "import matplotlib.pyplot as plt\n",
        "import tensorflow as tf\n",
        "import tensorflow_hub as hub\n",
        "import numpy as np\n",
        "from tensorflow.keras import preprocessing\n",
        "from tensorflow.keras.model import load_model\n",
        "from tensorflow.keras.activation import softmax\n",
        "import os\n",
        "st.title(\"Brain tumer classification\")\n",
        "st.header(\"insert ur  mri file below\")\n",
        "def main():\n",
        "     file_upload=st.file_uploader(\"choose the mri file\",type=['jpg','png','jpeg'])\n",
        "     image=Image.open(file_upload)\n",
        "     figure=plt.figure()\n",
        "     plt.imshow(image)\n",
        "     plt.axis('off')\n",
        "     result=predict_class(image)\n",
        "     st.write(result)\n",
        "     st.pyplot(figure)\n",
        "def predict_class(image):\n",
        "     classifier_model=tf.keras.models.load_model('cnn.h5')\n",
        "     shape={(100,100,3)}\n",
        "     tf.keras.Sequential(hub[hub.KerasLayer(classifier_model,input_shape=shape)])\n",
        "     test_image=image.resize((128,128))\n",
        "     test_image=preprocessing.image.img_to_array(test_image)\n",
        "     test_image=test_image/255.0\n",
        "     test_image=np.expand.dims(test_image,axis=0)\n",
        "     class_names=['glioma_tumor', 'pituitary_tumor', 'meningioma_tumor', 'no_tumor']"
      ]
    },
    {
      "cell_type": "code",
      "execution_count": null,
      "metadata": {
        "id": "8A89pCww3V8f"
      },
      "outputs": [],
      "source": [
        "!pip install pyngrok\n"
      ]
    },
    {
      "cell_type": "code",
      "execution_count": null,
      "metadata": {
        "id": "gKXjT2Y23eoT"
      },
      "outputs": [],
      "source": [
        "from pyngrok import ngrok"
      ]
    },
    {
      "cell_type": "code",
      "execution_count": null,
      "metadata": {
        "id": "M9iLg-aHXiqV"
      },
      "outputs": [],
      "source": [
        "!ngrok authtokenngrok config add-authtoken 28TNuZzTu6ykpMm7firbjHx2xPG_7Z2S7z9FFS1yRVeQd1ZhG"
      ]
    },
    {
      "cell_type": "code",
      "execution_count": null,
      "metadata": {
        "id": "a0kJpPAA3k6W"
      },
      "outputs": [],
      "source": [
        "!nohup streamlit run app.py &\n",
        "url=ngrok.connect(port='8501')\n",
        "print(url)"
      ]
    }
  ],
  "metadata": {
    "accelerator": "TPU",
    "colab": {
      "name": "pj mri",
      "provenance": [],
      "authorship_tag": "ABX9TyNvV1QzFZgXvRPtNISyVB+Q",
      "include_colab_link": true
    },
    "kernelspec": {
      "display_name": "Python 3",
      "name": "python3"
    },
    "language_info": {
      "name": "python"
    }
  },
  "nbformat": 4,
  "nbformat_minor": 0
}